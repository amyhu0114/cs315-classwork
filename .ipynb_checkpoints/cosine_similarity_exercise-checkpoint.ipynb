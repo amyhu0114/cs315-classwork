{
 "cells": [
  {
   "cell_type": "code",
   "execution_count": 14,
   "id": "1671d577",
   "metadata": {},
   "outputs": [
    {
     "name": "stderr",
     "output_type": "stream",
     "text": [
      "/Users/amyhu/opt/anaconda3/lib/python3.9/site-packages/pandas/core/computation/expressions.py:21: UserWarning: Pandas requires version '2.8.4' or newer of 'numexpr' (version '2.7.3' currently installed).\n",
      "  from pandas.core.computation.check import NUMEXPR_INSTALLED\n",
      "/Users/amyhu/opt/anaconda3/lib/python3.9/site-packages/pandas/core/arrays/masked.py:60: UserWarning: Pandas requires version '1.3.6' or newer of 'bottleneck' (version '1.3.2' currently installed).\n",
      "  from pandas.core import (\n",
      "/Users/amyhu/opt/anaconda3/lib/python3.9/site-packages/scipy/__init__.py:146: UserWarning: A NumPy version >=1.16.5 and <1.23.0 is required for this version of SciPy (detected version 1.26.4\n",
      "  warnings.warn(f\"A NumPy version >={np_minversion} and <{np_maxversion}\"\n"
     ]
    }
   ],
   "source": [
    "import numpy as np\n",
    "from numpy.linalg import norm\n",
    "import pandas as pd\n",
    "import seaborn as sns"
   ]
  },
  {
   "cell_type": "code",
   "execution_count": null,
   "id": "58510f54",
   "metadata": {},
   "outputs": [],
   "source": []
  },
  {
   "cell_type": "code",
   "execution_count": 7,
   "id": "bd415ed1",
   "metadata": {},
   "outputs": [],
   "source": [
    "import string"
   ]
  },
  {
   "cell_type": "code",
   "execution_count": 4,
   "id": "99afac94",
   "metadata": {},
   "outputs": [],
   "source": [
    "springSentences = [\n",
    "\"As spring unfolds, the warmth of the season encourages the first blossoms to open, signaling longer days ahead.\",\n",
    "\"Spring brings not only blooming flowers but also the anticipation of sunny days and outdoor activities.\",\n",
    "\"With the arrival of spring, people begin planning their summer vacations, eager to enjoy the seasonal warmth.\",\n",
    "\"The mild spring weather marks the transition from the cold winter to the inviting warmth of summer.\",\n",
    "\"During spring, families often start spending more time outdoors, enjoying the season's pleasant temperatures and the promise of summer fun.\"\n",
    "]\n",
    "\n",
    "summerSentences = [\n",
    "\"Summer continues the season's trend of growth and warmth, with gardens full of life and days filled with sunlight.\",\n",
    "\"The summer season is synonymous with outdoor adventures and enjoying the extended daylight hours that began in spring.\",\n",
    "\"As summer arrives, the warm weather invites a continuation of the outdoor activities that people began enjoying in spring.\",\n",
    "\"The transition into summer brings even warmer temperatures, allowing for beach visits and swimming, much awaited since the spring.\",\n",
    "\"Summer vacations are often planned as the days grow longer, a pattern that starts in the spring, culminating in peak summer leisure.\"\n",
    "]"
   ]
  },
  {
   "cell_type": "code",
   "execution_count": 23,
   "id": "e4a0b20f",
   "metadata": {},
   "outputs": [
    {
     "data": {
      "text/plain": [
       "'!\"#$%&\\'()*+,-./:;<=>?@[\\\\]^_`{|}~'"
      ]
     },
     "execution_count": 23,
     "metadata": {},
     "output_type": "execute_result"
    }
   ],
   "source": [
    "string.punctuation"
   ]
  },
  {
   "cell_type": "code",
   "execution_count": 24,
   "id": "e4024d14",
   "metadata": {},
   "outputs": [],
   "source": [
    "def cleanText(text):\n",
    "    '''Given some text, get rid of any punctuations and make all lowercase'''\n",
    "    return \"\".join(char for char in text.lower() if char not in string.punctuation)"
   ]
  },
  {
   "cell_type": "code",
   "execution_count": 25,
   "id": "e0f30dba",
   "metadata": {},
   "outputs": [],
   "source": [
    "def getVocabulary(text):\n",
    "    \"\"\"Given some text, create the vocabulary of unique words.\"\"\"\n",
    "    cleantext = cleanText(text)\n",
    "    words = set(cleantext.split())\n",
    "    voc = sorted(words)\n",
    "\n",
    "    return voc"
   ]
  },
  {
   "cell_type": "code",
   "execution_count": 30,
   "id": "caf98ac0",
   "metadata": {},
   "outputs": [],
   "source": [
    "def text2vector(sentence, voc):\n",
    "    \"\"\"Given a sentence and the vocabulary for the problem,\n",
    "    turn every sentence into a vector.\n",
    "    \"\"\"\n",
    "    words = cleanText(sentence)\n",
    "    vector = [words.count(w) for w in voc]\n",
    "    return vector"
   ]
  },
  {
   "cell_type": "code",
   "execution_count": 27,
   "id": "a9b5c012",
   "metadata": {},
   "outputs": [
    {
     "name": "stdout",
     "output_type": "stream",
     "text": [
      "Vocabulary has 102 words.\n"
     ]
    }
   ],
   "source": [
    "allSentences = \" \".join(springSentences) + \" \" + \" \".join(summerSentences)\n",
    "voc = getVocabulary(allSentences)\n",
    "print(f\"Vocabulary has {len(voc)} words.\")"
   ]
  },
  {
   "cell_type": "code",
   "execution_count": 31,
   "id": "d4bb26ed",
   "metadata": {},
   "outputs": [
    {
     "name": "stdout",
     "output_type": "stream",
     "text": [
      "10 102\n"
     ]
    }
   ],
   "source": [
    "sentVectors = [text2vector(sent, voc) for sent in springSentences+summerSentences]\n",
    "print(len(sentVectors), len(sentVectors[0]))"
   ]
  },
  {
   "cell_type": "code",
   "execution_count": 1,
   "id": "9175bad0",
   "metadata": {},
   "outputs": [],
   "source": [
    "from numpy.linalg import norm\n",
    "\n",
    "def cosineSimilarity(vec1, vec2):\n",
    "    \"\"\"Calculate the cosine similarity between two vectors.\"\"\"\n",
    "    V1 = np.array(vec1)\n",
    "    V2 = np.array(vec2)\n",
    "    cosine = np.dot(V1, V2)/(norm(V1)*norm(V2))\n",
    "    return cosine"
   ]
  },
  {
   "cell_type": "code",
   "execution_count": 32,
   "id": "ec78640a",
   "metadata": {},
   "outputs": [
    {
     "name": "stdout",
     "output_type": "stream",
     "text": [
      "[[1.0000000000000002, 0.7840625602339751, 0.8963859853644717, 0.7267523746672638, 0.8041664463712644, 0.7663413341351493, 0.8040302522073697, 0.8560516500077061, 0.7790627985509395, 0.8624403856519122], [0.7840625602339751, 1.0000000000000002, 0.8049169341255596, 0.6533928289099372, 0.7889543583705186, 0.7092112703076888, 0.7880125225640987, 0.8501841946369103, 0.8163616384274363, 0.8435398501390398], [0.8963859853644717, 0.8049169341255596, 0.9999999999999999, 0.7570542214781281, 0.8311588584427799, 0.7852070532987566, 0.8534859274986485, 0.9046684484556253, 0.8302258023111965, 0.893765387586327], [0.7267523746672638, 0.6533928289099372, 0.7570542214781281, 1.0, 0.6953216968743995, 0.5551143503412237, 0.7011970741152299, 0.7880409213425109, 0.7566905874670904, 0.6968950380892365], [0.8041664463712644, 0.7889543583705186, 0.8311588584427799, 0.6953216968743995, 1.0, 0.7336129786704408, 0.8455200432133895, 0.8649228885013016, 0.8073579502154968, 0.8535946093990905], [0.7663413341351493, 0.7092112703076888, 0.7852070532987566, 0.5551143503412237, 0.7336129786704408, 0.9999999999999998, 0.7272727272727271, 0.7205550845609604, 0.6632365324280728, 0.7580697689987212], [0.8040302522073697, 0.7880125225640987, 0.8534859274986485, 0.7011970741152299, 0.8455200432133895, 0.7272727272727271, 0.9999999999999998, 0.8926279405755181, 0.8179917233279564, 0.8550321813125112], [0.8560516500077061, 0.8501841946369103, 0.9046684484556253, 0.7880409213425109, 0.8649228885013016, 0.7205550845609604, 0.8926279405755181, 1.0, 0.8709164394313642, 0.9072250822011629], [0.7790627985509395, 0.8163616384274363, 0.8302258023111965, 0.7566905874670904, 0.8073579502154968, 0.6632365324280728, 0.8179917233279564, 0.8709164394313642, 1.0000000000000002, 0.861740789192712], [0.8624403856519122, 0.8435398501390398, 0.893765387586327, 0.6968950380892365, 0.8535946093990905, 0.7580697689987212, 0.8550321813125112, 0.9072250822011629, 0.861740789192712, 1.0]]\n"
     ]
    }
   ],
   "source": [
    "simMatrix = []\n",
    "for vec1 in sentVectors:\n",
    "    simRow = []\n",
    "    for vec2 in sentVectors:\n",
    "        simRow.append(cosineSimilarity(vec1, vec2))\n",
    "    simMatrix.append(simRow)\n",
    "\n",
    "print(simMatrix)"
   ]
  },
  {
   "cell_type": "code",
   "execution_count": 58,
   "id": "3e07d9b5",
   "metadata": {},
   "outputs": [],
   "source": [
    "import seaborn as sns\n",
    "import matplotlib.pyplot as plt\n",
    "\n",
    "def drawHeatmap(sentLabels, simMtrx, plotTitle):\n",
    "    \"\"\"Draws a heatmap for the similarity matrix.\n",
    "    \"\"\"\n",
    "    sns.set(font_scale=0.9)\n",
    "    g = sns.heatmap(\n",
    "          simMtrx, # similarity matrix with the cosine sim values\n",
    "          xticklabels=sentLabels,\n",
    "          yticklabels=sentLabels,\n",
    "          vmin=0,\n",
    "          vmax=1,\n",
    "          cmap=\"rainbow\")\n",
    "    g.set_xticklabels(sentLabels, rotation=90)\n",
    "    g.set_title(plotTitle, fontsize=14)\n",
    "    plt.show()"
   ]
  },
  {
   "cell_type": "code",
   "execution_count": 59,
   "id": "bbd993f4",
   "metadata": {},
   "outputs": [
    {
     "data": {
      "image/png": "[encoded data removed]",
      "text/plain": [
       "<Figure size 432x288 with 2 Axes>"
      ]
     },
     "metadata": {},
     "output_type": "display_data"
    }
   ],
   "source": [
    "shortSent = [sent[:25] for sent in springSentences+summerSentences]\n",
    "drawHeatmap(shortSent, simMatrix, \"Cosine similarity matrix\")"
   ]
  },
  {
   "cell_type": "code",
   "execution_count": 1,
   "id": "1d23a9f6",
   "metadata": {},
   "outputs": [],
   "source": [
    "# Voc = ['a', 'and', 'dress', 'earrings', 'has', 'i', 'in', 'is', 'lipstick', 'my', 'new', 'photo', 'red', 'resembles', 'she', 'short', 'stain', 'the', 'tomorrow', 'wear', 'wearing', 'will', 'wine', 'wore']"
   ]
  },
  {
   "cell_type": "code",
   "execution_count": 4,
   "id": "989ccde8",
   "metadata": {},
   "outputs": [],
   "source": [
    "# docs = [\"she wore a dress and red earrings\",                                   # d1\n",
    "#         \"the dress has a red wine stain\",                                      # d2\n",
    "#         \"tomorrow I will wear my new red dress\",                               # d3\n",
    "#         \"the red dress in the photo resembles the red dress she is wearing\",   # d4\n",
    "#         \"short dress\",                                                         # d5\n",
    "#         \"red lipstick\"]                                                        # d6\n"
   ]
  },
  {
   "cell_type": "code",
   "execution_count": 24,
   "id": "6fe968bd",
   "metadata": {},
   "outputs": [
    {
     "data": {
      "text/plain": [
       "[[1, 0, 0, 0, 0, 0],\n",
       " [0, 1, 0, 0, 0, 0],\n",
       " [0, 0, 1, 0, 0, 0],\n",
       " [0, 0, 0, 1, 0, 0],\n",
       " [0, 0, 0, 0, 1, 0],\n",
       " [0, 0, 0, 0, 0, 1]]"
      ]
     },
     "execution_count": 24,
     "metadata": {},
     "output_type": "execute_result"
    }
   ],
   "source": [
    "# similarity_matrix = [[0 for _ in range(len(docs))] for _ in range(len(docs))]\n",
    "# for i in range(len(docs)):\n",
    "#     for j in range(len(docs)):\n",
    "#         if docs[i] == docs[j]:\n",
    "#             similarity_matrix[i][j]+=1\n",
    "# similarity_matrix"
   ]
  },
  {
   "cell_type": "code",
   "execution_count": 27,
   "id": "910d21a9",
   "metadata": {},
   "outputs": [
    {
     "data": {
      "image/png": "[encoded data removed]",
      "text/plain": [
       "<Figure size 432x288 with 2 Axes>"
      ]
     },
     "metadata": {
      "needs_background": "light"
     },
     "output_type": "display_data"
    }
   ],
   "source": [
    "# ax = sns.heatmap(similarity_matrix)"
   ]
  },
  {
   "cell_type": "code",
   "execution_count": null,
   "id": "43f273d2",
   "metadata": {},
   "outputs": [],
   "source": []
  }
 ],
 "metadata": {
  "kernelspec": {
   "display_name": "Python 3 (ipykernel)",
   "language": "python",
   "name": "python3"
  },
  "language_info": {
   "codemirror_mode": {
    "name": "ipython",
    "version": 3
   },
   "file_extension": ".py",
   "mimetype": "text/x-python",
   "name": "python",
   "nbconvert_exporter": "python",
   "pygments_lexer": "ipython3",
   "version": "3.9.7"
  }
 },
 "nbformat": 4,
 "nbformat_minor": 5
}
