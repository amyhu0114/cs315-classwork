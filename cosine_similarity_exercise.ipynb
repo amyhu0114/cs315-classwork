{
 "cells": [
  {
   "cell_type": "code",
   "execution_count": 25,
   "id": "1671d577",
   "metadata": {},
   "outputs": [],
   "source": [
    "import numpy as np\n",
    "from numpy.linalg import norm\n",
    "import pandas as pd\n",
    "import seaborn as sns"
   ]
  },
  {
   "cell_type": "code",
   "execution_count": null,
   "id": "58510f54",
   "metadata": {},
   "outputs": [],
   "source": []
  },
  {
   "cell_type": "code",
   "execution_count": 1,
   "id": "1d23a9f6",
   "metadata": {},
   "outputs": [],
   "source": [
    "Voc = ['a', 'and', 'dress', 'earrings', 'has', 'i', 'in', 'is', 'lipstick', 'my', 'new', 'photo', 'red', 'resembles', 'she', 'short', 'stain', 'the', 'tomorrow', 'wear', 'wearing', 'will', 'wine', 'wore']"
   ]
  },
  {
   "cell_type": "code",
   "execution_count": 4,
   "id": "989ccde8",
   "metadata": {},
   "outputs": [],
   "source": [
    "docs = [\"she wore a dress and red earrings\",                                   # d1\n",
    "        \"the dress has a red wine stain\",                                      # d2\n",
    "        \"tomorrow I will wear my new red dress\",                               # d3\n",
    "        \"the red dress in the photo resembles the red dress she is wearing\",   # d4\n",
    "        \"short dress\",                                                         # d5\n",
    "        \"red lipstick\"]                                                        # d6\n"
   ]
  },
  {
   "cell_type": "code",
   "execution_count": 24,
   "id": "6fe968bd",
   "metadata": {},
   "outputs": [
    {
     "data": {
      "text/plain": [
       "[[1, 0, 0, 0, 0, 0],\n",
       " [0, 1, 0, 0, 0, 0],\n",
       " [0, 0, 1, 0, 0, 0],\n",
       " [0, 0, 0, 1, 0, 0],\n",
       " [0, 0, 0, 0, 1, 0],\n",
       " [0, 0, 0, 0, 0, 1]]"
      ]
     },
     "execution_count": 24,
     "metadata": {},
     "output_type": "execute_result"
    }
   ],
   "source": [
    "similarity_matrix = [[0 for _ in range(len(docs))] for _ in range(len(docs))]\n",
    "for i in range(len(docs)):\n",
    "    for j in range(len(docs)):\n",
    "        if docs[i] == docs[j]:\n",
    "            similarity_matrix[i][j]+=1\n",
    "similarity_matrix"
   ]
  },
  {
   "cell_type": "code",
   "execution_count": 27,
   "id": "910d21a9",
   "metadata": {},
   "outputs": [
    {
     "data": {
      "image/png": "[encoded data removed]",
      "text/plain": [
       "<Figure size 432x288 with 2 Axes>"
      ]
     },
     "metadata": {
      "needs_background": "light"
     },
     "output_type": "display_data"
    }
   ],
   "source": [
    "ax = sns.heatmap(similarity_matrix)"
   ]
  },
  {
   "cell_type": "code",
   "execution_count": 7,
   "id": "9175bad0",
   "metadata": {},
   "outputs": [],
   "source": [
    "# def cosineSimilarity(vec1, vec2):\n",
    "#     V1 = np.array(vec1)\n",
    "#     V2 = np.array(vec2)\n",
    "#     cosine = np.dot(V1,V2)/(norm(V1)*norm(V2))\n",
    "#     return cosine"
   ]
  },
  {
   "cell_type": "code",
   "execution_count": 20,
   "id": "3e07d9b5",
   "metadata": {},
   "outputs": [],
   "source": [
    "#cosineSimilarity([docs[4]], [docs[5]])"
   ]
  },
  {
   "cell_type": "code",
   "execution_count": null,
   "id": "bbd993f4",
   "metadata": {},
   "outputs": [],
   "source": []
  }
 ],
 "metadata": {
  "kernelspec": {
   "display_name": "Python 3 (ipykernel)",
   "language": "python",
   "name": "python3"
  },
  "language_info": {
   "codemirror_mode": {
    "name": "ipython",
    "version": 3
   },
   "file_extension": ".py",
   "mimetype": "text/x-python",
   "name": "python",
   "nbconvert_exporter": "python",
   "pygments_lexer": "ipython3",
   "version": "3.9.7"
  }
 },
 "nbformat": 4,
 "nbformat_minor": 5
}
