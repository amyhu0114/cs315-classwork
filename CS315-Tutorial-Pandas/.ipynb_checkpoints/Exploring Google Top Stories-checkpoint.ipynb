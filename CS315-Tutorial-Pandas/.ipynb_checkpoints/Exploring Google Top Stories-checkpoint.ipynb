{
 "cells": [
  {
   "cell_type": "markdown",
   "id": "1dbe4353-ae93-4f8c-b244-5f5488134979",
   "metadata": {},
   "source": [
    "# Google Top Stories - An exploration\n",
    "\n",
    "This dataset was collected during the pandemic, it contains headlines shown by Google Search.\n",
    "\n",
    "The dataset is organized by year, month, date, hour, in a series of nested folders. The leaf folders contain JSON files with information about top stories. \n",
    "\n",
    "Your goal is to write first Python function that takes the name of the folder \"GoogleTopStories\" and stores the content of all the JSON files into a single CSV file. Once you have a CSV file, you can practice your pandas & seaborn skills in analyzing the data.\n",
    "\n",
    "Some tips and ideas for analysis:\n",
    "1. Use the Python command `os.walk` to iteratively traverse the nested subfolders. Account for hidden files that start with .\n",
    "2. Although the dataset has a column domain, imagine that it doesn't have it and write a function that takes a URL and extract the domain name from it and saves it in a colum. Use the .apply method to create the column. Learn how to parse URLs with urllib.parse.\n",
    "3. Create a bar chart with the frequencies of the top 10 domains. (Use domains, since 'source name' contains duplicates.)\n",
    "4. Create a heatmap that shows the distribution of domains across the 'story_position' values.\n",
    "5. Create timeseries of unique articles per month by query type. (This is challenging.)"
   ]
  },
  {
   "cell_type": "code",
   "execution_count": 1,
   "id": "147ffd3b-4ecf-4eab-bde9-e7f02f1146fe",
   "metadata": {},
   "outputs": [],
   "source": [
    "import os\n",
    "import json\n",
    "import pandas as pd"
   ]
  },
  {
   "cell_type": "code",
   "execution_count": 3,
   "id": "af41c37e",
   "metadata": {},
   "outputs": [],
   "source": [
    "#os.chdir(\"GoogleTopStories\")"
   ]
  },
  {
   "cell_type": "code",
   "execution_count": 32,
   "id": "2cd93b62-65e6-41e1-b7d2-fa9bfbf517bf",
   "metadata": {},
   "outputs": [
    {
     "data": {
      "text/plain": [
       "'/Users/amyhu/Desktop/CS 315/Project 1/Tutorials/CS315-Tutorial-Pandas/GoogleTopStories'"
      ]
     },
     "execution_count": 32,
     "metadata": {},
     "output_type": "execute_result"
    }
   ],
   "source": [
    "os.getcwd()"
   ]
  },
  {
   "cell_type": "code",
   "execution_count": 17,
   "id": "8ada842c",
   "metadata": {},
   "outputs": [],
   "source": [
    "os.chdir(\"../../../../\")"
   ]
  },
  {
   "cell_type": "code",
   "execution_count": 38,
   "id": "bbe45dcb",
   "metadata": {},
   "outputs": [],
   "source": [
    "df = pd.DataFrame()\n",
    "years = os.listdir()\n",
    "if \".DS_Store\" in years:\n",
    "    years.remove(\".DS_Store\")\n",
    "for year in years:\n",
    "    os.chdir(year)\n",
    "    months = os.listdir()\n",
    "    if \".DS_Store\" in months:\n",
    "        months.remove(\".DS_Store\")\n",
    "    for month in months:\n",
    "        os.chdir(month)\n",
    "        days = os.listdir()\n",
    "        if \".DS_Store\" in days:\n",
    "            days.remove(\".DS_Store\")\n",
    "        for day in days:\n",
    "            os.chdir(day)\n",
    "            hours = os.listdir()\n",
    "            if \".DS_Store\" in hours:\n",
    "                hours.remove(\".DS_Store\")\n",
    "            for hour in hours:\n",
    "                os.chdir(hour)\n",
    "                files = os.listdir()\n",
    "                if \".DS_Store\" in files:\n",
    "                    files.remove(\".DS_Store\")\n",
    "                for file in files:\n",
    "                    with open(file) as inFile:\n",
    "                        tempJson = json.load(inFile)\n",
    "                        tempDf = pd.DataFrame(tempJson)\n",
    "                        df = pd.concat([df, tempDf], ignore_index=True)\n",
    "                        inFile.close()\n",
    "                        break\n",
    "                os.chdir(\"../\")\n",
    "            os.chdir(\"../\")\n",
    "        os.chdir(\"../\")\n",
    "    os.chdir(\"../\")\n",
    "#df.to_csv(\"output.csv\", index=False)"
   ]
  },
  {
   "cell_type": "code",
   "execution_count": 39,
   "id": "7629e977",
   "metadata": {},
   "outputs": [
    {
     "data": {
      "text/html": [
       "<div>\n",
       "<style scoped>\n",
       "    .dataframe tbody tr th:only-of-type {\n",
       "        vertical-align: middle;\n",
       "    }\n",
       "\n",
       "    .dataframe tbody tr th {\n",
       "        vertical-align: top;\n",
       "    }\n",
       "\n",
       "    .dataframe thead th {\n",
       "        text-align: right;\n",
       "    }\n",
       "</style>\n",
       "<table border=\"1\" class=\"dataframe\">\n",
       "  <thead>\n",
       "    <tr style=\"text-align: right;\">\n",
       "      <th></th>\n",
       "      <th>title</th>\n",
       "      <th>url</th>\n",
       "      <th>source</th>\n",
       "      <th>time</th>\n",
       "      <th>date</th>\n",
       "      <th>query</th>\n",
       "      <th>story_position</th>\n",
       "      <th>domain</th>\n",
       "      <th>category</th>\n",
       "    </tr>\n",
       "  </thead>\n",
       "  <tbody>\n",
       "    <tr>\n",
       "      <th>0</th>\n",
       "      <td>Live Covid-19 News Updates: The Latest</td>\n",
       "      <td>https://www.nytimes.com/live/2021/02/03/world/...</td>\n",
       "      <td>The New York Times</td>\n",
       "      <td>2 hours ago</td>\n",
       "      <td>2021-02-03 22:00:00</td>\n",
       "      <td>Covid-19</td>\n",
       "      <td>1</td>\n",
       "      <td>www.nytimes.com</td>\n",
       "      <td>NaN</td>\n",
       "    </tr>\n",
       "    <tr>\n",
       "      <th>1</th>\n",
       "      <td>The latest on the coronavirus pandemic and vac...</td>\n",
       "      <td>https://www.cnn.com/world/live-news/coronaviru...</td>\n",
       "      <td>CNN</td>\n",
       "      <td>50 mins ago</td>\n",
       "      <td>2021-02-03 22:00:00</td>\n",
       "      <td>Covid-19</td>\n",
       "      <td>2</td>\n",
       "      <td>www.cnn.com</td>\n",
       "      <td>NaN</td>\n",
       "    </tr>\n",
       "    <tr>\n",
       "      <th>2</th>\n",
       "      <td>Chiefs' Daniel Kilgore releases photo of unfin...</td>\n",
       "      <td>https://www.foxnews.com/sports/chiefs-daniel-k...</td>\n",
       "      <td>Fox News</td>\n",
       "      <td>48 mins ago</td>\n",
       "      <td>2021-02-03 22:00:00</td>\n",
       "      <td>Covid-19</td>\n",
       "      <td>3</td>\n",
       "      <td>www.foxnews.com</td>\n",
       "      <td>NaN</td>\n",
       "    </tr>\n",
       "    <tr>\n",
       "      <th>3</th>\n",
       "      <td>Younger adults are biggest spreaders of Covid-...</td>\n",
       "      <td>https://www.cnn.com/2021/02/03/health/younger-...</td>\n",
       "      <td>CNN</td>\n",
       "      <td>35 mins ago</td>\n",
       "      <td>2021-02-03 22:00:00</td>\n",
       "      <td>Covid-19</td>\n",
       "      <td>4</td>\n",
       "      <td>www.cnn.com</td>\n",
       "      <td>NaN</td>\n",
       "    </tr>\n",
       "    <tr>\n",
       "      <th>4</th>\n",
       "      <td>Idaho’s daily average of new COVID-19 cases re...</td>\n",
       "      <td>https://www.idahostatesman.com/news/coronaviru...</td>\n",
       "      <td>Idaho Statesman</td>\n",
       "      <td>51 mins ago</td>\n",
       "      <td>2021-02-03 22:00:00</td>\n",
       "      <td>Covid-19</td>\n",
       "      <td>5</td>\n",
       "      <td>www.idahostatesman.com</td>\n",
       "      <td>NaN</td>\n",
       "    </tr>\n",
       "  </tbody>\n",
       "</table>\n",
       "</div>"
      ],
      "text/plain": [
       "                                               title  \\\n",
       "0             Live Covid-19 News Updates: The Latest   \n",
       "1  The latest on the coronavirus pandemic and vac...   \n",
       "2  Chiefs' Daniel Kilgore releases photo of unfin...   \n",
       "3  Younger adults are biggest spreaders of Covid-...   \n",
       "4  Idaho’s daily average of new COVID-19 cases re...   \n",
       "\n",
       "                                                 url              source  \\\n",
       "0  https://www.nytimes.com/live/2021/02/03/world/...  The New York Times   \n",
       "1  https://www.cnn.com/world/live-news/coronaviru...                 CNN   \n",
       "2  https://www.foxnews.com/sports/chiefs-daniel-k...            Fox News   \n",
       "3  https://www.cnn.com/2021/02/03/health/younger-...                 CNN   \n",
       "4  https://www.idahostatesman.com/news/coronaviru...     Idaho Statesman   \n",
       "\n",
       "          time                 date     query  story_position  \\\n",
       "0  2 hours ago  2021-02-03 22:00:00  Covid-19               1   \n",
       "1  50 mins ago  2021-02-03 22:00:00  Covid-19               2   \n",
       "2  48 mins ago  2021-02-03 22:00:00  Covid-19               3   \n",
       "3  35 mins ago  2021-02-03 22:00:00  Covid-19               4   \n",
       "4  51 mins ago  2021-02-03 22:00:00  Covid-19               5   \n",
       "\n",
       "                   domain category  \n",
       "0         www.nytimes.com      NaN  \n",
       "1             www.cnn.com      NaN  \n",
       "2         www.foxnews.com      NaN  \n",
       "3             www.cnn.com      NaN  \n",
       "4  www.idahostatesman.com      NaN  "
      ]
     },
     "execution_count": 39,
     "metadata": {},
     "output_type": "execute_result"
    }
   ],
   "source": [
    "df.head()"
   ]
  }
 ],
 "metadata": {
  "kernelspec": {
   "display_name": "Python 3 (ipykernel)",
   "language": "python",
   "name": "python3"
  },
  "language_info": {
   "codemirror_mode": {
    "name": "ipython",
    "version": 3
   },
   "file_extension": ".py",
   "mimetype": "text/x-python",
   "name": "python",
   "nbconvert_exporter": "python",
   "pygments_lexer": "ipython3",
   "version": "3.9.7"
  }
 },
 "nbformat": 4,
 "nbformat_minor": 5
}
