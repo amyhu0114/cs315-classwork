{
 "cells": [
  {
   "cell_type": "markdown",
   "metadata": {},
   "source": [
    "# CS 111 Lecture: Real-world Data\n",
    "\n",
    "**Table of Contents**\n",
    "\n",
    "1. [Sorting a list of numbers](#sec1)\n",
    "2. [Sorting other sequences](#sec2)\n",
    "3. [Sorting a list of sequences](#sec3)  \n",
    "    3.1 [Sorting a list of strings](#sec3.1)  \n",
    "    3.2 [Sorting a list of tuples](#sec3.2)\n",
    "4. [Sorting with the `key` parameter](#sec4)\n",
    "5. [EXERCISES: Your turn to sort](#sec5)\n",
    "6. [Mutating list methods for sorting](#sec6)\n",
    "7. [Sorting dictionaries and list of dictionaries](#sec7)\n",
    "8. [EXERCISES: Sort the Census data to answer the questions below](#sec8)\n",
    "\n",
    "In the previous lecture on File Formats, we worked with the file **us-states-more.csv**, which contained information about each state, such as:\n",
    "\n",
    "```\n",
    "State,StatePop,Abbrev.,Capital,CapitalPop\n",
    "Alabama,4921532,AL,Montgomery,198525\n",
    "Alaska,731158,AK,Juneau,32113\n",
    "Arizona,7421401,AZ,Phoenix,1680992\n",
    "Arkansas,3030522,AR,Little Rock,197312\n",
    "California,39368078,CA,Sacramento,513624\n",
    "Colorado,5807719,CO,Denver,727211\n",
    "```\n",
    "\n",
    "These are real-world data retrieved from the Census website. In the United States, representation in Congress (House of Representatives) is decided about changes in states' population every ten years. In this lecture, you will learn to write Python code to answer questions with Census data:\n",
    "\n",
    "* Which are the most populated US states? Rank the data in that order.\n",
    "* Which are the least populated US states? Rank the data in that order.\n",
    "* Which US state capitals are the most populated? Rank the data in that order.\n",
    "* Which US state capitals are the least populated? Rank the data in that order.\n",
    "* What percentage of each US state’s population lives in the state capital? Rank the data by that percentage from the largest to the smallest.\n",
    "\n",
    "In order to answer these questions, we first need to learn about **sorting sequences**."
   ]
  },
  {
   "cell_type": "markdown",
   "metadata": {},
   "source": [
    "<a id=\"sec1\"></a>\n",
    "## 1. Sorting a list of numbers\n",
    "\n",
    "Let's start with the simplest case, sorting a list of unordered numbers, positive and negative."
   ]
  },
  {
   "cell_type": "code",
   "execution_count": null,
   "metadata": {},
   "outputs": [],
   "source": [
    "numbers = [35, -2, 17, -9, 0, 12, 19] "
   ]
  },
  {
   "cell_type": "markdown",
   "metadata": {},
   "source": [
    "We will use Python's built-in function, `sorted` to sort the list. This function **always** returns a new list."
   ]
  },
  {
   "cell_type": "code",
   "execution_count": null,
   "metadata": {},
   "outputs": [],
   "source": [
    "sorted(numbers)"
   ]
  },
  {
   "cell_type": "markdown",
   "metadata": {},
   "source": [
    "And we can verify that `numbers` hasn't changed:"
   ]
  },
  {
   "cell_type": "code",
   "execution_count": null,
   "metadata": {},
   "outputs": [],
   "source": [
    "numbers"
   ]
  },
  {
   "cell_type": "markdown",
   "metadata": {},
   "source": [
    "**Note:** This suggests that if we want to use the result of `sorted`, we must define a variable to save its returned value, for example:\n",
    "\n",
    "```\n",
    "sortedNumbers = sorted(numbers)\n",
    "```"
   ]
  },
  {
   "cell_type": "markdown",
   "metadata": {},
   "source": [
    "By default the list is sorted in the **ascending** order (from the smalled value to the largest), but we can easily reverse the order, using a named parameter of the function `sorted`, as shown below:"
   ]
  },
  {
   "cell_type": "code",
   "execution_count": null,
   "metadata": {},
   "outputs": [],
   "source": [
    "sorted(numbers, reverse=True)"
   ]
  },
  {
   "cell_type": "markdown",
   "metadata": {},
   "source": [
    "The use of the named parameter, `reverse`, in this function call is new syntax that you haven't seen before. We will get back to it later in this lecture."
   ]
  },
  {
   "cell_type": "markdown",
   "metadata": {},
   "source": [
    "<a id=\"sec2\"></a>\n",
    "## 2. Sorting other sequences\n",
    "\n",
    "Strings and tuples can also be sorted in the same way. The result is **always** going to be a new list."
   ]
  },
  {
   "cell_type": "code",
   "execution_count": null,
   "metadata": {},
   "outputs": [],
   "source": [
    "phrase = 'Red Code 1'"
   ]
  },
  {
   "cell_type": "code",
   "execution_count": null,
   "metadata": {},
   "outputs": [],
   "source": [
    "sorted(phrase)"
   ]
  },
  {
   "cell_type": "markdown",
   "metadata": {},
   "source": [
    "**Question:** Why do we see a space as the first element in the sorted list?  \n",
    "**Answer:** Because of the [ASCII representation of characters](https://www.lookuptables.com/text/ascii-table).\n",
    "\n",
    "We can use the Python built-in function `ord` to find the ASCII code of every character:"
   ]
  },
  {
   "cell_type": "code",
   "execution_count": null,
   "metadata": {},
   "outputs": [],
   "source": [
    "ord(' ')"
   ]
  },
  {
   "cell_type": "markdown",
   "metadata": {},
   "source": [
    "We can write a `for` loop to print the code for every character.  \n",
    "We use the  f-string method to format the output."
   ]
  },
  {
   "cell_type": "code",
   "execution_count": null,
   "metadata": {},
   "outputs": [],
   "source": [
    "for item in sorted(phrase):\n",
    "    print(f\"'{item}' has ASCII code {ord(item)}\")"
   ]
  },
  {
   "cell_type": "markdown",
   "metadata": {},
   "source": [
    "Just as in the case of the list `numbers` in the above example, the string value of `phrase` hasn't changed:"
   ]
  },
  {
   "cell_type": "code",
   "execution_count": null,
   "metadata": {},
   "outputs": [],
   "source": [
    "phrase"
   ]
  },
  {
   "cell_type": "markdown",
   "metadata": {},
   "source": [
    "This is to be expected, because strings are **immutable**."
   ]
  },
  {
   "cell_type": "markdown",
   "metadata": {},
   "source": [
    "### Tuples can be sorted too"
   ]
  },
  {
   "cell_type": "code",
   "execution_count": null,
   "metadata": {},
   "outputs": [],
   "source": [
    "digits = (9, 7, 5, 3, 1) # this is a tuple "
   ]
  },
  {
   "cell_type": "code",
   "execution_count": null,
   "metadata": {},
   "outputs": [],
   "source": [
    "type(digits) # check the type"
   ]
  },
  {
   "cell_type": "code",
   "execution_count": null,
   "metadata": {},
   "outputs": [],
   "source": [
    "sorted(digits)"
   ]
  },
  {
   "cell_type": "markdown",
   "metadata": {},
   "source": [
    "Notice that the result of the sorting is a list, not a tuple. This is because the function `sorted` **always** returns a list."
   ]
  },
  {
   "cell_type": "code",
   "execution_count": null,
   "metadata": {},
   "outputs": [],
   "source": [
    "digits"
   ]
  },
  {
   "cell_type": "markdown",
   "metadata": {},
   "source": [
    "The original tuple value hasn't changed."
   ]
  },
  {
   "cell_type": "markdown",
   "metadata": {},
   "source": [
    "<a id=\"sec3\"></a>\n",
    "## 3. Sorting a list of sequences\n",
    "\n",
    "We can sort list of sequences such as list of strings, list of tuples, and list of lists.  \n",
    "Sorting the list of tuples and the list of lists is going to be similar. The same principles will apply."
   ]
  },
  {
   "cell_type": "markdown",
   "metadata": {},
   "source": [
    "<a id=\"sec3.1\"></a>\n",
    "### 3. 1 Sorting a list of strings"
   ]
  },
  {
   "cell_type": "code",
   "execution_count": null,
   "metadata": {},
   "outputs": [],
   "source": [
    "# a long string that we will split into a list of words\n",
    "\n",
    "phrase = \"99 red balloons *floating* in the Summer sky\" \n",
    "words = phrase.split()\n",
    "words"
   ]
  },
  {
   "cell_type": "code",
   "execution_count": null,
   "metadata": {},
   "outputs": [],
   "source": [
    "sorted(words)"
   ]
  },
  {
   "cell_type": "markdown",
   "metadata": {},
   "source": [
    "**Question:** Can you explain the results of sorting here? What rules are in place?  \n",
    "**Answer:** Words that contain special characters come first, then words that contain digits, words starting with uppercase letters, and finally, words with lowercase letters in alphabetical order. This ordering corresponds to the ASCII table numerical representations of each word's first character.\n",
    "\n",
    "***String characters are ordered by these rules:***\n",
    "- Punctuation symbols (. , ; : * ! # ^)\n",
    "- Digits\n",
    "- Uppercase letters\n",
    "- Lowercase letters"
   ]
  },
  {
   "cell_type": "code",
   "execution_count": null,
   "metadata": {},
   "outputs": [],
   "source": [
    "sorted(words, reverse=True)"
   ]
  },
  {
   "cell_type": "markdown",
   "metadata": {},
   "source": [
    "Remember, the original list is unchanged:"
   ]
  },
  {
   "cell_type": "code",
   "execution_count": null,
   "metadata": {},
   "outputs": [],
   "source": [
    "words"
   ]
  },
  {
   "cell_type": "markdown",
   "metadata": {},
   "source": [
    "<a id=\"sec3.2\"></a>\n",
    "### 3.2 Sorting a list of tuples\n",
    "\n",
    "Tuples are compared element by element, starting with the one at index 0. This is known as **lexicographic order**, which is a generalization of dictionary order on strings in which each tuple element generalizes a character in a string. "
   ]
  },
  {
   "cell_type": "code",
   "execution_count": null,
   "metadata": {},
   "outputs": [],
   "source": [
    "triples = [(8, 'a', '$'), (7, 'c', '@'),\n",
    "           (7, 'b', '+'), (8, 'a', '!')] \n",
    "\n",
    "sorted(triples)"
   ]
  },
  {
   "cell_type": "markdown",
   "metadata": {},
   "source": [
    "**Q:** What happens in the case of ties for the first elements of tuples?  \n",
    "**A:** We keep comparing elements with the same indices until we find two that are not the same. (See example for the two tuples that start with 8.)"
   ]
  },
  {
   "cell_type": "code",
   "execution_count": null,
   "metadata": {},
   "outputs": [],
   "source": [
    "ord('!') < ord('$')"
   ]
  },
  {
   "cell_type": "code",
   "execution_count": null,
   "metadata": {},
   "outputs": [],
   "source": [
    "print(ord('!'), ord('$'))"
   ]
  },
  {
   "cell_type": "markdown",
   "metadata": {},
   "source": [
    "That is, the reason `'!'` is less than `'$'` is that the first has a smaller ASCII code than the latter."
   ]
  },
  {
   "cell_type": "markdown",
   "metadata": {},
   "source": [
    "<a id=\"sec4\"></a>\n",
    "## 4. Sorting with the `key` parameter\n",
    "\n",
    "Often there are cases in which we want to sort by an element that is not first in a sequence, for example, given the list of tuples `people` (below), we want to sort by the age of a person.\n",
    "\n",
    "```\n",
    "people = [('Mary Beth Johnson', 18), \n",
    "          ('Ed Smith', 17), \n",
    "          ('Janet Doe', 25), \n",
    "          ('Bob Miller', 31)]\n",
    "```\n",
    "Simply using `sorted` as we have done so far will not work. But the function `sorted` has been designed to deal with this scenario in mind. Let us read its doc string."
   ]
  },
  {
   "cell_type": "code",
   "execution_count": null,
   "metadata": {},
   "outputs": [],
   "source": [
    "help(sorted)"
   ]
  },
  {
   "cell_type": "markdown",
   "metadata": {},
   "source": [
    "Notice the phrase: **A custom key function can be supplied to customize the sort order**. This means that we can specify a function that for each element determines how it should be compared to other elements of the iterable. Let us see an example."
   ]
  },
  {
   "cell_type": "code",
   "execution_count": null,
   "metadata": {},
   "outputs": [],
   "source": [
    "people = [('Mary Beth Johnson', 18), \n",
    "          ('Ed Smith', 17), \n",
    "          ('Janet Doe', 25), \n",
    "          ('Bob Miller', 31)]"
   ]
  },
  {
   "cell_type": "markdown",
   "metadata": {},
   "source": [
    "We'll create the function `age` that given a person tuple (name, age) will return the age value."
   ]
  },
  {
   "cell_type": "code",
   "execution_count": null,
   "metadata": {},
   "outputs": [],
   "source": [
    "def age(personTuple):\n",
    "    \"\"\"Helper function to use in sorted\"\"\"\n",
    "    return personTuple[1]"
   ]
  },
  {
   "cell_type": "code",
   "execution_count": null,
   "metadata": {},
   "outputs": [],
   "source": [
    "age(('Janet Doe', 25))"
   ]
  },
  {
   "cell_type": "markdown",
   "metadata": {},
   "source": [
    "Now that we have this function, we will use it as the value for **key** in `sorted`."
   ]
  },
  {
   "cell_type": "code",
   "execution_count": null,
   "metadata": {},
   "outputs": [],
   "source": [
    "sorted(people, key=age)"
   ]
  },
  {
   "cell_type": "markdown",
   "metadata": {},
   "source": [
    "The list was sorted by the age values! Let's see one more example. We will create a helper function `lastName` that returns a person's last name."
   ]
  },
  {
   "cell_type": "code",
   "execution_count": null,
   "metadata": {},
   "outputs": [],
   "source": [
    "def lastName(personTuple):\n",
    "    \"\"\"Helper function to use in sorted\"\"\"\n",
    "    return personTuple[0].split()[-1]        # first access the whole name (has index=0 in the tuple)\n",
    "                                             # then split it (will create a list), \n",
    "                                             # then return its last element (index=-1)"
   ]
  },
  {
   "cell_type": "code",
   "execution_count": null,
   "metadata": {},
   "outputs": [],
   "source": [
    "lastName(('Bob Miller', 31))"
   ]
  },
  {
   "cell_type": "code",
   "execution_count": null,
   "metadata": {},
   "outputs": [],
   "source": [
    "sorted(people, key=lastName)"
   ]
  },
  {
   "cell_type": "markdown",
   "metadata": {},
   "source": [
    "**Important:** The parameter `key` is being assigned as its value a function value. Functions in Python are values, see the examples below:"
   ]
  },
  {
   "cell_type": "code",
   "execution_count": null,
   "metadata": {},
   "outputs": [],
   "source": [
    "age"
   ]
  },
  {
   "cell_type": "code",
   "execution_count": null,
   "metadata": {},
   "outputs": [],
   "source": [
    "lastName"
   ]
  },
  {
   "cell_type": "markdown",
   "metadata": {},
   "source": [
    "We can create a variable, assign it a function value, and then call that variable as if it was a function (because indeed it's an alias for a function)."
   ]
  },
  {
   "cell_type": "code",
   "execution_count": null,
   "metadata": {},
   "outputs": [],
   "source": [
    "boo = age\n",
    "boo(('Janet Doe', 25))"
   ]
  },
  {
   "cell_type": "code",
   "execution_count": null,
   "metadata": {},
   "outputs": [],
   "source": [
    "foo = lastName\n",
    "foo(('Ed Smith', 17))"
   ]
  },
  {
   "cell_type": "markdown",
   "metadata": {},
   "source": [
    "The variables `boo` and `foo` are aliases for the functions `age` and `lastName`, which we can easily verify:"
   ]
  },
  {
   "cell_type": "code",
   "execution_count": null,
   "metadata": {},
   "outputs": [],
   "source": [
    "boo"
   ]
  },
  {
   "cell_type": "code",
   "execution_count": null,
   "metadata": {},
   "outputs": [],
   "source": [
    "foo"
   ]
  },
  {
   "cell_type": "markdown",
   "metadata": {},
   "source": [
    "### Breaking ties with  `key` functions\n",
    "\n",
    "Assume we have a new list of person tuples, where there are lots of ambiguities in terms of what comes first. Concretely:\n",
    "\n",
    "```\n",
    "people2 = [('Ed Jones', 18), \n",
    "           ('Ana Doe', 25), \n",
    "           ('Ed Doe', 18),\n",
    "           ('Bob Doe', 25), \n",
    "           ('Ana Jones', 18)]\n",
    "```\n",
    "Notice that we have several individuals with the same age, or the same first name, or the same last name. How should we sort elements in  this situation?\n",
    "\n",
    "We can create a function that uses a tuple to break the ties.\n",
    "\n",
    "```\n",
    "def ageLastFirst(person):\n",
    "    return (age(person), lastName(person), firstName(person))\n",
    "```"
   ]
  },
  {
   "cell_type": "markdown",
   "metadata": {},
   "source": [
    "**Your Turn**\n",
    "\n",
    "Write a function `firstName`, that mimics `lastName`, but returns the first name of a person."
   ]
  },
  {
   "cell_type": "code",
   "execution_count": null,
   "metadata": {},
   "outputs": [],
   "source": [
    "# Your code here\n"
   ]
  },
  {
   "cell_type": "markdown",
   "metadata": {},
   "source": [
    "If you wrote `firstName`, now we can write `ageLastFirst`:"
   ]
  },
  {
   "cell_type": "code",
   "execution_count": null,
   "metadata": {},
   "outputs": [],
   "source": [
    "def ageLastFirst(person):\n",
    "    \"\"\"Helper function to use in sorted\"\"\"\n",
    "    return (age(person), lastName(person), firstName(person))"
   ]
  },
  {
   "cell_type": "code",
   "execution_count": null,
   "metadata": {},
   "outputs": [],
   "source": [
    "people2 = [('Ed Jones', 18), \n",
    "           ('Ana Doe', 25), \n",
    "           ('Ed Doe', 18),\n",
    "           ('Bob Doe', 25), \n",
    "           ('Ana Jones', 18)]\n",
    "\n",
    "sorted(people2, key=ageLastFirst)"
   ]
  },
  {
   "cell_type": "markdown",
   "metadata": {},
   "source": [
    "Notice that in the result, the tuples are sorted first by age, then by last name (when the same age), and then by first name (when same age and last name)."
   ]
  },
  {
   "cell_type": "markdown",
   "metadata": {},
   "source": [
    "### How does sorting with `key` work?\n",
    "\n",
    "When `sorted` is called with a `key` parameter, the first thing it does is to invoke the function that is referred to by `key` for each element of the sequence. If we think of the value returned by the `key` function as `keyvalue`, then what `sorted` does is to create a tuple `(keyvalue,value)`, sort the sequence based on this tuple, and then get rid of the tuple and return the sorted values only.\n",
    "\n",
    "This process is also known as **Decorate, Sort, Undecorate** and we can try it too:"
   ]
  },
  {
   "cell_type": "code",
   "execution_count": null,
   "metadata": {},
   "outputs": [],
   "source": [
    "# Step 1 (Decorate): create a list of tuples (keyvalue, value)\n",
    "decorated = [(age(person), person) for person in people]\n",
    "decorated"
   ]
  },
  {
   "cell_type": "code",
   "execution_count": null,
   "metadata": {},
   "outputs": [],
   "source": []
  },
  {
   "cell_type": "code",
   "execution_count": null,
   "metadata": {},
   "outputs": [],
   "source": [
    "# Step 2 (Sort): invoke the function sorted without the key function\n",
    "decoratedSorted = sorted(decorated)\n",
    "decoratedSorted"
   ]
  },
  {
   "cell_type": "code",
   "execution_count": null,
   "metadata": {},
   "outputs": [],
   "source": []
  },
  {
   "cell_type": "code",
   "execution_count": null,
   "metadata": {},
   "outputs": [],
   "source": [
    "# Step 3 (Undecorate): extract now the value from each (keyvalue,value) pair to create the end result\n",
    "undecoratedResult = [item[1] for item in decoratedSorted]\n",
    "undecoratedResult"
   ]
  },
  {
   "cell_type": "markdown",
   "metadata": {},
   "source": [
    "As you might remember, when we include **key** in `sorted` the result is the same:"
   ]
  },
  {
   "cell_type": "code",
   "execution_count": null,
   "metadata": {},
   "outputs": [],
   "source": [
    "sorted(people, key=age)"
   ]
  },
  {
   "cell_type": "markdown",
   "metadata": {},
   "source": [
    "Basically, the parameter `key` works, becuase of the rules for sorting a list of tuples, that we saw earlier on the notebook."
   ]
  },
  {
   "cell_type": "markdown",
   "metadata": {},
   "source": [
    "<a id=\"sec5\"></a>\n",
    "## 5. Exercises: Your turn to sort\n",
    "\n",
    "Here is a list of the Space Missions where the second element in the tuple represents the number of days the mission lasted. \n",
    "\n",
    "```\n",
    "missions = [('Apollo 11', 8), \n",
    "            ('Mercury-Redstone 3', 1),\n",
    "            ('Apollo 13', 5), \n",
    "            ('Gemini 3', 1), \n",
    "            ('Little Joe 6', 1)]\n",
    "```\n",
    "\n",
    "Some quick terminology:\n",
    "- Program name refers to 'Apollo' or 'Mercury-Redstone'\n",
    "- Mission number refers to the 11 in 'Apollo 11' or '3' in Gemini 3\n",
    "- Days refers to the number of days the mission lasted.  In truth, many of the missions with one day listed lasted only a matter of minutes but have been rounded to 1 for ease."
   ]
  },
  {
   "cell_type": "code",
   "execution_count": null,
   "metadata": {},
   "outputs": [],
   "source": [
    "missions = [('Apollo 11', 8), \n",
    "            ('Mercury-Redstone 3', 1),\n",
    "            ('Apollo 13', 5), \n",
    "            ('Gemini 3', 1), \n",
    "            ('Little Joe 6', 1)]"
   ]
  },
  {
   "cell_type": "markdown",
   "metadata": {},
   "source": [
    "**Task 1: Sort by number of days**\n",
    "\n",
    "Using function `sorted` with **key**, sort the list of missions based on the number of days on space. This should produce:\n",
    "```\n",
    "[('Mercury-Redstone 3', 1),\n",
    " ('Gemini 3', 1),\n",
    " ('Little Joe 6', 1),\n",
    " ('Apollo 13', 5),\n",
    " ('Apollo 11', 8)]\n",
    "```\n",
    "You will have to create first a helper function to be used as a value for **key**."
   ]
  },
  {
   "cell_type": "code",
   "execution_count": null,
   "metadata": {},
   "outputs": [],
   "source": [
    "# Your code here\n"
   ]
  },
  {
   "cell_type": "markdown",
   "metadata": {},
   "source": [
    "**Task 2: Sort by mission number**\n",
    "\n",
    "This should produce the list:\n",
    "```\n",
    "[('Mercury-Redstone 3', 1),\n",
    " ('Gemini 3', 1),\n",
    " ('Little Joe 6', 1),\n",
    " ('Apollo 11', 8),\n",
    " ('Apollo 13', 5)]\n",
    " ```\n",
    " Similarly as above, create a helper function to be assigned to **key**."
   ]
  },
  {
   "cell_type": "code",
   "execution_count": null,
   "metadata": {},
   "outputs": [],
   "source": [
    "# Your code here\n"
   ]
  },
  {
   "cell_type": "markdown",
   "metadata": {},
   "source": [
    "**Task 3: Sort by program name**\n",
    "\n",
    "This should produce the list:\n",
    "```\n",
    "[('Apollo 11', 8),\n",
    " ('Apollo 13', 5),\n",
    " ('Gemini 3', 1),\n",
    " ('Little Joe 6', 1),\n",
    " ('Mercury-Redstone 3', 1)]\n",
    "```\n",
    "Again, start by creating a helper function to be the value for **key**."
   ]
  },
  {
   "cell_type": "code",
   "execution_count": null,
   "metadata": {},
   "outputs": [],
   "source": [
    "# Your code here\n"
   ]
  },
  {
   "cell_type": "markdown",
   "metadata": {},
   "source": [
    "**Task 4: Sort by days, program name, and mission number**\n",
    "\n",
    "Here, you'll combine together all the functions you wrote above, to produce this list:\n",
    "```\n",
    "[('Gemini 3', 1),\n",
    " ('Little Joe 6', 1),\n",
    " ('Mercury-Redstone 3', 1),\n",
    " ('Apollo 13', 5),\n",
    " ('Apollo 11', 8)]\n",
    "```"
   ]
  },
  {
   "cell_type": "code",
   "execution_count": null,
   "metadata": {},
   "outputs": [],
   "source": [
    "# Your code here\n"
   ]
  },
  {
   "cell_type": "markdown",
   "metadata": {},
   "source": [
    "<a id='sec6'></a>\n",
    "## 6. Mutating list methods for sorting\n",
    "\n",
    "Lists have two methods for sorting. These methods mutate the original list. They are `sort` and `reverse`. "
   ]
  },
  {
   "cell_type": "markdown",
   "metadata": {},
   "source": [
    "### Method `sort`"
   ]
  },
  {
   "cell_type": "code",
   "execution_count": null,
   "metadata": {},
   "outputs": [],
   "source": [
    "numbers = [35, -2, 17, -9, 0, 12, 19]\n",
    "numbers.sort() "
   ]
  },
  {
   "cell_type": "markdown",
   "metadata": {},
   "source": [
    "Notice that **no value** was returned, because `sort` mutates the original list."
   ]
  },
  {
   "cell_type": "code",
   "execution_count": null,
   "metadata": {},
   "outputs": [],
   "source": [
    "numbers"
   ]
  },
  {
   "cell_type": "markdown",
   "metadata": {},
   "source": [
    "### Method `reverse`"
   ]
  },
  {
   "cell_type": "code",
   "execution_count": null,
   "metadata": {},
   "outputs": [],
   "source": [
    "numbers2 = [35, -2, 17, -9, 0, 12, 19]\n",
    "numbers2.reverse()"
   ]
  },
  {
   "cell_type": "markdown",
   "metadata": {},
   "source": [
    "This method also does not return a value, because it too mutates the list."
   ]
  },
  {
   "cell_type": "code",
   "execution_count": null,
   "metadata": {},
   "outputs": [],
   "source": [
    "numbers2"
   ]
  },
  {
   "cell_type": "markdown",
   "metadata": {},
   "source": [
    "In combination, sort and reverse can sort a list in reverse order:"
   ]
  },
  {
   "cell_type": "code",
   "execution_count": null,
   "metadata": {},
   "outputs": [],
   "source": [
    "numbers2.sort()\n",
    "numbers2.reverse()\n",
    "numbers2"
   ]
  },
  {
   "cell_type": "markdown",
   "metadata": {},
   "source": [
    "### We can use the parameters `key` and `reverse` as well"
   ]
  },
  {
   "cell_type": "code",
   "execution_count": null,
   "metadata": {},
   "outputs": [],
   "source": [
    "people.sort(key=age, reverse=True)\n",
    "people"
   ]
  },
  {
   "cell_type": "markdown",
   "metadata": {},
   "source": [
    "<a id=\"sec7\"></a>\n",
    "## 7. Sorting dictionaries and lists of dictionaries\n",
    "\n",
    "Does it make sense to sort a dictioanry? What happens when we try to do so?"
   ]
  },
  {
   "cell_type": "code",
   "execution_count": null,
   "metadata": {},
   "outputs": [],
   "source": [
    "fruitColors = {\"banana\": \"yellow\", \"kiwi\": \"green\", \n",
    "               \"grapes\": \"purple\", \"apple\": \"red\", \n",
    "               \"lemon\": \"yellow\", \"pomegranate\": \"red\"}\n",
    "\n",
    "sorted(fruitColors)"
   ]
  },
  {
   "cell_type": "markdown",
   "metadata": {},
   "source": [
    "We didn't get an error, but all that was sorted were the keys of the dictionary."
   ]
  },
  {
   "cell_type": "markdown",
   "metadata": {},
   "source": [
    "Try to predict what we will see in the following lines:"
   ]
  },
  {
   "cell_type": "code",
   "execution_count": null,
   "metadata": {},
   "outputs": [],
   "source": [
    "sorted(fruitColors.values())"
   ]
  },
  {
   "cell_type": "code",
   "execution_count": null,
   "metadata": {},
   "outputs": [],
   "source": [
    "sorted(fruitColors.items())"
   ]
  },
  {
   "cell_type": "code",
   "execution_count": null,
   "metadata": {},
   "outputs": [],
   "source": [
    "sorted(fruitColors.keys())"
   ]
  },
  {
   "cell_type": "markdown",
   "metadata": {},
   "source": [
    "While it doesn't make sense to sort a dictionary, it certainly makes sense to sort a list of dictionaries, but we will need to do some work. Let's try it out:"
   ]
  },
  {
   "cell_type": "code",
   "execution_count": null,
   "metadata": {},
   "outputs": [],
   "source": [
    "peopleDctList = [{'name':'Mary Beth Johnson', 'age': 18},\n",
    "                 {'name':'Ed Smith', 'age': 17},\n",
    "                 {'name':'Janet Doe', 'age': 25},\n",
    "                 {'name':'Bob Miller', 'age': 31}]"
   ]
  },
  {
   "cell_type": "code",
   "execution_count": null,
   "metadata": {},
   "outputs": [],
   "source": [
    "sorted(peopleDctList)"
   ]
  },
  {
   "cell_type": "markdown",
   "metadata": {},
   "source": [
    "It doesn't happen out of the box, becuase Python doesn't have rules for comparing dictionaries, the ways that there are rules for comparing strings and tuples (as we saw at the beginning). That means, we would have to provide the key parameter to tell Python how to sort the items of this list of dictionaries."
   ]
  },
  {
   "cell_type": "code",
   "execution_count": null,
   "metadata": {},
   "outputs": [],
   "source": [
    "def byAge(personDct):\n",
    "    \"\"\"Helper function to be used in sorted.\"\"\"\n",
    "    return personDct['age']"
   ]
  },
  {
   "cell_type": "code",
   "execution_count": null,
   "metadata": {},
   "outputs": [],
   "source": [
    "sorted(peopleDctList, key=byAge)"
   ]
  },
  {
   "cell_type": "markdown",
   "metadata": {},
   "source": [
    "### Your turn: Sort by last name\n",
    "\n",
    "Create a function `byLastName`, that will sort the list of dictionaries by the last name of people. When used in `sorted`, it should produce the list:\n",
    "```\n",
    "[{'name': 'Janet Doe', 'age': 25},\n",
    " {'name': 'Mary Beth Johnson', 'age': 18},\n",
    " {'name': 'Bob Miller', 'age': 31},\n",
    " {'name': 'Ed Smith', 'age': 17}]\n",
    " ```"
   ]
  },
  {
   "cell_type": "code",
   "execution_count": null,
   "metadata": {},
   "outputs": [],
   "source": [
    "# Your code here\n"
   ]
  },
  {
   "cell_type": "code",
   "execution_count": null,
   "metadata": {},
   "outputs": [],
   "source": [
    "sorted(peopleDctList, key=byLastName)"
   ]
  },
  {
   "cell_type": "markdown",
   "metadata": {},
   "source": [
    "**Conclusion:** You learned to sort a list of dictionaries. Now that you know that, you can answer our initial questions about the Census data."
   ]
  },
  {
   "cell_type": "markdown",
   "metadata": {},
   "source": [
    "<a id=\"sec8\"></a>\n",
    "## 8. Exercises: Sorting Census Data\n",
    "\n",
    "We want to answer all these questions through sorting:\n",
    "\n",
    "1. Which are the most populated US states? Rank the data in that order.\n",
    "2. Which are the least populated US states? Rank the data in that order.\n",
    "3. Which US state capitals are the most populated? Rank the data in that order.\n",
    "4. Which US state capitals are the least populated? Rank the data in that order.\n",
    "5. What percentage of each US state’s population lives in the state capital? Rank the data by that percentage from the largest to the smallest.\n",
    "\n",
    "For the sake of space, you should only print the first 6 items of each sorted list. The final results for each question are shown in the slides."
   ]
  },
  {
   "cell_type": "markdown",
   "metadata": {},
   "source": [
    "### Step 0: Get the data from the file\n",
    "\n",
    "We are providing you with the code of reading a CSV file as a list of dictionaries, so that you can focus on sorting."
   ]
  },
  {
   "cell_type": "code",
   "execution_count": null,
   "metadata": {},
   "outputs": [],
   "source": [
    "import csv"
   ]
  },
  {
   "cell_type": "code",
   "execution_count": null,
   "metadata": {},
   "outputs": [],
   "source": [
    "# Read content of CSV file as a list of dictionaries\n",
    "\n",
    "with open(\"us-states-more.csv\", 'r') as inputF:\n",
    "    dctReader = csv.DictReader(inputF)\n",
    "    stateDctList = list(dctReader)\n",
    "    \n",
    "len(stateDctList)"
   ]
  },
  {
   "cell_type": "markdown",
   "metadata": {},
   "source": [
    "Look up an item of this list:"
   ]
  },
  {
   "cell_type": "code",
   "execution_count": null,
   "metadata": {},
   "outputs": [],
   "source": [
    "stateDctList[0]"
   ]
  },
  {
   "cell_type": "markdown",
   "metadata": {},
   "source": [
    "Remember that while Python displays this item as a list of tuples, this is in fact a dictionary, you can access its keys and values in the usual way:"
   ]
  },
  {
   "cell_type": "code",
   "execution_count": null,
   "metadata": {},
   "outputs": [],
   "source": [
    "for key in stateDctList[0]:\n",
    "    print(f\"{key}: {stateDctList[0][key]}\")"
   ]
  },
  {
   "cell_type": "markdown",
   "metadata": {},
   "source": [
    "### Question 1: Find the top most populated US States\n",
    "\n",
    "The steps for answering this question can be found also in Slide 20 of our lecture notes, but here they are for simplicity of access:\n",
    "\n",
    "* Create a helper function `byStatePop`, which, given a dictionary with state data (one row from our file), returns the appropriate value. Remember that all values in the dictionary are strings, because they come from the CSV file.\n",
    "* Apply the `sorted` function to the list of dictionaries of state data (`stateDctList`), using the key parameter that has as value `byStatePop`.\n",
    "* Look at the results, in which way are they sorted?\n",
    "* Include the function parameter reverse to change the order of sorting.\n",
    "* Use f-string formatting to print out top six results as shown below.\n",
    "\n",
    "You can find the results of the printing in Slide 20."
   ]
  },
  {
   "cell_type": "code",
   "execution_count": null,
   "metadata": {},
   "outputs": [],
   "source": [
    "# Write the function byStatePop\n",
    "# Your code here\n"
   ]
  },
  {
   "cell_type": "code",
   "execution_count": null,
   "metadata": {},
   "outputs": [],
   "source": [
    "# Sort the list in descending order, save it in a variable\n",
    "# Your code here\n"
   ]
  },
  {
   "cell_type": "code",
   "execution_count": null,
   "metadata": {},
   "outputs": [],
   "source": [
    "# Print out the top 6 entries (see Slide 20)\n",
    "# Do not worry if you cannot get the formatting of the numbers, check the solution later\n",
    "# Your code here\n"
   ]
  },
  {
   "cell_type": "markdown",
   "metadata": {},
   "source": [
    "### Question 2: Find the top least populated US States\n",
    "\n",
    "This is very similar to question 1. You do not need to write a helper function, because you can use `byStatePop`. You only have to sort data in the ascending order (the default way that `sorted` works) and then print the top six values."
   ]
  },
  {
   "cell_type": "code",
   "execution_count": null,
   "metadata": {},
   "outputs": [],
   "source": [
    "# First sort (save in a variable), and then print out the top 6 least populated states in the US\n",
    "# Your code here\n"
   ]
  },
  {
   "cell_type": "markdown",
   "metadata": {},
   "source": [
    "### Question 3: Find the top most populated US State capitals\n",
    "\n",
    "This will be very similar to the two questions above, but first you'll have to write the helper function `byCapitalPop`. Once you do that, check out Slide 21 to see what kind of output to print. **Do not worry about the formatting, make sure you have the content.**"
   ]
  },
  {
   "cell_type": "code",
   "execution_count": null,
   "metadata": {},
   "outputs": [],
   "source": [
    "# Write the function byCapitalPop\n",
    "# Your code here\n"
   ]
  },
  {
   "cell_type": "code",
   "execution_count": null,
   "metadata": {},
   "outputs": [],
   "source": [
    "# Sort the list in descending order, save it in a variable\n",
    "# Your code here\n"
   ]
  },
  {
   "cell_type": "code",
   "execution_count": null,
   "metadata": {},
   "outputs": [],
   "source": [
    "# Print the top 6 capitals together with some other data (See slide 21 for what information to include)\n",
    "# Your code here\n"
   ]
  },
  {
   "cell_type": "markdown",
   "metadata": {},
   "source": [
    "### Question 4: Find the top least populated US State capitals\n",
    "\n",
    "Very similar to Question 3, but the capitals will now be in ascending order and you'll only print the top 6 least populated."
   ]
  },
  {
   "cell_type": "code",
   "execution_count": null,
   "metadata": {},
   "outputs": [],
   "source": [
    "# First sort (save in a variable), and then print out the top 6 least populated US state capitals\n",
    "# Your code here\n"
   ]
  },
  {
   "cell_type": "markdown",
   "metadata": {},
   "source": [
    "### Question 5: Find the top states with the highest percentage of population living in their capitals\n",
    "\n",
    "The general algorithm for answering this question remains the same.\n",
    "- create a helper function `byPercentage`, that finds the percentage of people in a state living in its capital\n",
    "- sort with the help of this function (in descending order)\n",
    "- print out some useful information about this question (See Slide 22)"
   ]
  },
  {
   "cell_type": "code",
   "execution_count": null,
   "metadata": {},
   "outputs": [],
   "source": [
    "# Write the function byPercentage\n",
    "# Your code here\n"
   ]
  },
  {
   "cell_type": "code",
   "execution_count": null,
   "metadata": {},
   "outputs": [],
   "source": [
    "# Sort the list of state dicts by using the key function you wrote. Save the result in a variable.\n",
    "# Your code here\n"
   ]
  },
  {
   "cell_type": "code",
   "execution_count": null,
   "metadata": {},
   "outputs": [],
   "source": [
    "# Print the top six results (see what to print in Slide 22)\n",
    "# Your code here\n"
   ]
  },
  {
   "cell_type": "markdown",
   "metadata": {},
   "source": [
    "This is the end of this notebook!"
   ]
  }
 ],
 "metadata": {
  "kernelspec": {
   "display_name": "Python 3 (ipykernel)",
   "language": "python",
   "name": "python3"
  },
  "language_info": {
   "codemirror_mode": {
    "name": "ipython",
    "version": 3
   },
   "file_extension": ".py",
   "mimetype": "text/x-python",
   "name": "python",
   "nbconvert_exporter": "python",
   "pygments_lexer": "ipython3",
   "version": "3.9.7"
  }
 },
 "nbformat": 4,
 "nbformat_minor": 4
}
