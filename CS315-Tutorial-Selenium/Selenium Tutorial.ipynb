{
 "cells": [
  {
   "cell_type": "markdown",
   "metadata": {},
   "source": [
    "# Web Scraping with Selenium\n",
    "\n",
    "\n",
    "In this notebook, I will show how to use Selenium to search Google and parse the results.\n",
    "\n",
    "\n",
    "**Table of Contents**\n",
    "1. [Part 1: Test Selenium](#part1)\n",
    "2. [Part 2: Get to know Selenium commands](#part2)\n",
    "3. [Part 3: Searching Google (with an example)](#part3)\n",
    "4. [Part 4: Do your own search](#part4)"
   ]
  },
  {
   "cell_type": "markdown",
   "metadata": {},
   "source": [
    "<a id=\"part1\"></a>\n",
    "## Part 1: Test Selenium\n",
    "\n",
    "In this part we will make sure that selenium is installed and can communicate with the Firefox browser."
   ]
  },
  {
   "cell_type": "code",
   "execution_count": 2,
   "metadata": {},
   "outputs": [],
   "source": [
    "import selenium "
   ]
  },
  {
   "cell_type": "markdown",
   "metadata": {},
   "source": [
    "If you are getting an error, such as: ModuleNotFoundError: No module named 'selenium', then you'll need to install the selenium package."
   ]
  },
  {
   "cell_type": "code",
   "execution_count": null,
   "metadata": {},
   "outputs": [],
   "source": [
    "#pip install selenium"
   ]
  },
  {
   "cell_type": "markdown",
   "metadata": {},
   "source": [
    "**IMPORTANT STEP:** Check the slides for Day 3 to deal with the \"path\" of where Geckodriver is stored, otherwise, the code below will show an error."
   ]
  },
  {
   "cell_type": "markdown",
   "metadata": {},
   "source": [
    "Now we are creating a Firefox instance and telling it to open a web page:"
   ]
  },
  {
   "cell_type": "code",
   "execution_count": 4,
   "metadata": {},
   "outputs": [],
   "source": [
    "from selenium import webdriver\n",
    "\n",
    "browser = webdriver.Firefox()\n",
    "#browser.get('http://cs.wellesley.edu')"
   ]
  },
  {
   "cell_type": "markdown",
   "metadata": {},
   "source": [
    "If the test was successful, you should be able to see a Firefox browser open, and then display the Wellesley CS homepage.\n",
    "\n",
    "**Note:** In order to continue with the commands in Part 2, DO NOT close the Firefox window that was opened above. Without the browser, the commands will fail."
   ]
  },
  {
   "cell_type": "markdown",
   "metadata": {},
   "source": [
    "<a id=\"part2\"></a>"
   ]
  },
  {
   "cell_type": "markdown",
   "metadata": {},
   "source": [
    "## Part 2: Get to know Selenium commands\n",
    "\n",
    "One way to learn more about what methods and attributes of a class are available is to use the Python function `dir`:"
   ]
  },
  {
   "cell_type": "code",
   "execution_count": 3,
   "metadata": {},
   "outputs": [
    {
     "name": "stdout",
     "output_type": "stream",
     "text": [
      "['CONTEXT_CHROME', 'CONTEXT_CONTENT', '__abstractmethods__', '__class__', '__delattr__', '__dict__', '__dir__', '__doc__', '__enter__', '__eq__', '__exit__', '__format__', '__ge__', '__getattribute__', '__gt__', '__hash__', '__init__', '__init_subclass__', '__le__', '__lt__', '__module__', '__ne__', '__new__', '__reduce__', '__reduce_ex__', '__repr__', '__setattr__', '__sizeof__', '__str__', '__subclasshook__', '__weakref__', '_abc_impl', '_authenticator_id', '_file_detector', '_get_cdp_details', '_is_remote', '_mobile', '_shadowroot_cls', '_switch_to', '_unwrap_value', '_web_element_cls', '_wrap_value', 'add_cookie', 'add_credential', 'add_virtual_authenticator', 'application_cache', 'back', 'bidi_connection', 'binary', 'capabilities', 'caps', 'close', 'command_executor', 'context', 'create_web_element', 'current_url', 'current_window_handle', 'delete_all_cookies', 'delete_cookie', 'desired_capabilities', 'error_handler', 'execute', 'execute_async_script', 'execute_script', 'file_detector', 'file_detector_context', 'find_element', 'find_element_by_class_name', 'find_element_by_css_selector', 'find_element_by_id', 'find_element_by_link_text', 'find_element_by_name', 'find_element_by_partial_link_text', 'find_element_by_tag_name', 'find_element_by_xpath', 'find_elements', 'find_elements_by_class_name', 'find_elements_by_css_selector', 'find_elements_by_id', 'find_elements_by_link_text', 'find_elements_by_name', 'find_elements_by_partial_link_text', 'find_elements_by_tag_name', 'find_elements_by_xpath', 'firefox_profile', 'forward', 'fullscreen_window', 'get', 'get_cookie', 'get_cookies', 'get_credentials', 'get_full_page_screenshot_as_base64', 'get_full_page_screenshot_as_file', 'get_full_page_screenshot_as_png', 'get_log', 'get_pinned_scripts', 'get_screenshot_as_base64', 'get_screenshot_as_file', 'get_screenshot_as_png', 'get_window_position', 'get_window_rect', 'get_window_size', 'implicitly_wait', 'install_addon', 'log_types', 'maximize_window', 'minimize_window', 'mobile', 'name', 'orientation', 'page_source', 'pin_script', 'pinned_scripts', 'print_page', 'profile', 'quit', 'refresh', 'remove_all_credentials', 'remove_credential', 'remove_virtual_authenticator', 'save_full_page_screenshot', 'save_screenshot', 'service', 'session_id', 'set_context', 'set_page_load_timeout', 'set_script_timeout', 'set_user_verified', 'set_window_position', 'set_window_rect', 'set_window_size', 'start_client', 'start_session', 'stop_client', 'switch_to', 'timeouts', 'title', 'uninstall_addon', 'unpin', 'virtual_authenticator_id', 'window_handles']\n"
     ]
    }
   ],
   "source": [
    "print(dir(browser))"
   ]
  },
  {
   "cell_type": "markdown",
   "metadata": {},
   "source": [
    "Here are some useful attributes of the `browser` object that we might be interested to use:"
   ]
  },
  {
   "cell_type": "code",
   "execution_count": 5,
   "metadata": {},
   "outputs": [
    {
     "data": {
      "text/plain": [
       "'https://www.google.com/?gws_rd=ssl'"
      ]
     },
     "execution_count": 5,
     "metadata": {},
     "output_type": "execute_result"
    }
   ],
   "source": [
    "browser.current_url"
   ]
  },
  {
   "cell_type": "code",
   "execution_count": 6,
   "metadata": {},
   "outputs": [
    {
     "data": {
      "text/plain": [
       "'Google'"
      ]
     },
     "execution_count": 6,
     "metadata": {},
     "output_type": "execute_result"
    }
   ],
   "source": [
    "browser.title"
   ]
  },
  {
   "cell_type": "code",
   "execution_count": 7,
   "metadata": {},
   "outputs": [
    {
     "data": {
      "text/plain": [
       "'p=\"image\"><title>Google</title><script src=\"https://apis.google.com/_/scs/abc-static/_/js/k=gapi.gapi.en.sY-PcpVhgWw.O/m=gapi_iframes,googleapis_client/rt=j/sv=1/d=1/ed=1/rs=AHpOoo9Rvk-uuNpxhdO70m878GpubWGzeQ/cb=gapi.loaded_0\" nonce=\"rJ1tswF-D89R6msAARRJ-Q\" async=\"\"></script><script nonce=\"rJ1tswF-D89R6msAARRJ-Q\">(function(){var _g={kEI:\\'NKbRZY2fE5baptQPqa688AY\\',kEXPI:\\'31\\',kBL:\\'ud4H\\',kOPI:89978449};(function(){var a;(null==(a=window.google)?0:a.stvsc)?google.kEI=_g.kEI:window.google=_g;}).call(t'"
      ]
     },
     "execution_count": 7,
     "metadata": {},
     "output_type": "execute_result"
    }
   ],
   "source": [
    "browser.page_source[500:1000] # don't print the entire page, might be too big"
   ]
  },
  {
   "cell_type": "markdown",
   "metadata": {},
   "source": [
    "Selenium has its own set of commands for accessing the DOM of a page, here are some examples:"
   ]
  },
  {
   "cell_type": "code",
   "execution_count": 8,
   "metadata": {},
   "outputs": [
    {
     "name": "stdout",
     "output_type": "stream",
     "text": [
      "MyWellesley\n",
      "Give\n",
      "ABOUT\n",
      "ADMISSION & FINANCIAL AID\n",
      "ACADEMICS\n",
      "CAMPUS LIFE\n",
      "ATHLETICS\n",
      "NEWS\n",
      "EVENTS\n",
      "ADMINISTRATION\n",
      "ALUMNAE\n"
     ]
    }
   ],
   "source": [
    "from selenium.webdriver.common.by import By # contains operators for the type of search we want to do\n",
    "\n",
    "# Find the element with id=\"navbar\"\n",
    "try:\n",
    "    print(browser.find_element(By.ID, 'navbar').text)\n",
    "except Exception as e:\n",
    "    print(e)"
   ]
  },
  {
   "cell_type": "code",
   "execution_count": 5,
   "metadata": {},
   "outputs": [
    {
     "name": "stdout",
     "output_type": "stream",
     "text": [
      "Computer Science\n",
      "Curriculum\n",
      "Faculty\n",
      "Research\n",
      "News and Events\n",
      "Resources\n",
      "Diversity, Equity, and Inclusion\n",
      "Student Opportunities\n",
      "Beyond Wellesley\n",
      "Contact Us\n",
      "Sohie Lee\n",
      "Department Co-Chair\n",
      "Tel: 781.283.3123\n",
      "Email: slee@wellesley.edu\n",
      "Orit Shaer\n",
      "Department Co-Chair\n",
      "Tel: 781.283.3093\n",
      "Email: oshaer@wellesley.edu\n",
      "Narine Emdjian\n",
      "Academic Administrator/Grants Coordinator\n",
      "Tel: 781.283.3147\n",
      "Email: ne100@wellesley.edu\n"
     ]
    }
   ],
   "source": [
    "# Find the element with a given class name\n",
    "try:\n",
    "    print(browser.find_element(By.CLASS_NAME, 'md-left-sidebar').text)\n",
    "except Exception as e:\n",
    "    print(e)"
   ]
  },
  {
   "cell_type": "markdown",
   "metadata": {},
   "source": [
    "Let's close the browser instance:"
   ]
  },
  {
   "cell_type": "code",
   "execution_count": 9,
   "metadata": {},
   "outputs": [],
   "source": [
    "browser.close()"
   ]
  },
  {
   "cell_type": "markdown",
   "metadata": {},
   "source": [
    "<a id=\"part3\"></a>"
   ]
  },
  {
   "cell_type": "markdown",
   "metadata": {},
   "source": [
    "## Part 3: Searching Google\n",
    "\n",
    "We'll open a new browser instance and get to visit Google."
   ]
  },
  {
   "cell_type": "code",
   "execution_count": 10,
   "metadata": {},
   "outputs": [],
   "source": [
    "browser = webdriver.Firefox()\n",
    "browser.get('https://google.com')"
   ]
  },
  {
   "cell_type": "markdown",
   "metadata": {},
   "source": [
    "We want to access the search box, which we know it's named \"q\", so it can be accessed by its name:"
   ]
  },
  {
   "cell_type": "code",
   "execution_count": 11,
   "metadata": {},
   "outputs": [
    {
     "data": {
      "text/plain": [
       "<selenium.webdriver.remote.webelement.WebElement (session=\"891d5a6c-d438-4aa2-9979-d2f5cf85554d\", element=\"6a17b9ab-349e-488c-8c63-c9c1b16ae62c\")>"
      ]
     },
     "execution_count": 11,
     "metadata": {},
     "output_type": "execute_result"
    }
   ],
   "source": [
    "browser.find_element(By.NAME, \"q\")"
   ]
  },
  {
   "cell_type": "markdown",
   "metadata": {},
   "source": [
    "This result shows us that there is an element named \"q\". We will assign a variable to this instance so that we can interact with it:"
   ]
  },
  {
   "cell_type": "code",
   "execution_count": 12,
   "metadata": {},
   "outputs": [],
   "source": [
    "inputBox = browser.find_element(By.NAME, \"q\")\n",
    "inputBox.send_keys(\"wellesley college\")"
   ]
  },
  {
   "cell_type": "markdown",
   "metadata": {},
   "source": [
    "Notice how the browser copied the phrase into the search box and Google showed the suggested searches. If we want the search to start, we can send an enter event via code:"
   ]
  },
  {
   "cell_type": "code",
   "execution_count": 13,
   "metadata": {},
   "outputs": [],
   "source": [
    "from selenium.webdriver.common.keys import Keys\n",
    "inputBox.send_keys(Keys.ENTER)"
   ]
  },
  {
   "cell_type": "markdown",
   "metadata": {},
   "source": [
    "This sends the query phrase and then the page is loaded.\n",
    "\n",
    "It's possible to perform other operations with the keyboard, here is a [list of keyboard keys](https://www.selenium.dev/selenium/docs/api/py/webdriver/selenium.webdriver.common.keys.html) that Selenium recognizes.\n",
    "\n",
    "Now that we know how to search Google, here are some simple tasks to try."
   ]
  },
  {
   "cell_type": "markdown",
   "metadata": {},
   "source": [
    "### Example: Artist Popularity\n",
    "\n",
    "Let's take the list of **five** famous artists, e.g. Lady Gaga, Rihana, Taylor Swift, Beyonce, and Britney Spears, and find the number of results (hits) that Google returns for each of them. We will use these numbers to rank the artists based on the number of hits. In a sense, one can use the number of hits as a signal of an artist's popularity. More hits means more people have created pages mentioning the search phrase.\n",
    "\n",
    "**Good to know**\n",
    "\n",
    "- The element of the search page that contains the number of results has id=\"result-stats\".\n",
    "- The result usually looks like this: 'About 6,120,000 results (1.25 seconds) ', thus, we will extract the number, turn it into an integer, before doing the ranking.\n",
    "- It takes some time between sending a query and the page loading, so you want the program to wait in between calls. We can use Python's time.sleep(N) as the simplest way to wait."
   ]
  },
  {
   "cell_type": "code",
   "execution_count": 14,
   "metadata": {},
   "outputs": [],
   "source": [
    "import time\n",
    "\n",
    "def getResults(query):\n",
    "    \"\"\"Given a query, open a browser instance, search Google for the \n",
    "    phrase, then get the result-stats phrase from the page and return it.\n",
    "    \"\"\"\n",
    "    browser = webdriver.Firefox()\n",
    "    browser.get('https://google.com')\n",
    "    inputBox = browser.find_element(By.NAME, \"q\")\n",
    "    inputBox.clear() # so that in between searches it starts empty\n",
    "    inputBox.send_keys(query)\n",
    "    inputBox.send_keys(Keys.ENTER)\n",
    "    time.sleep(1) # wait for the page to load\n",
    "    try:\n",
    "        result = browser.find_element(By.ID, \"result-stats\").text\n",
    "    except:\n",
    "        # Occasionally, Google Search shows something else at the top of the page.\n",
    "        print(f\"Couldn't find result for {query}\")\n",
    "        result = \"\"\n",
    "    browser.close()\n",
    "    return result"
   ]
  },
  {
   "cell_type": "markdown",
   "metadata": {},
   "source": [
    "A helper function to return the hit number."
   ]
  },
  {
   "cell_type": "code",
   "execution_count": 15,
   "metadata": {},
   "outputs": [],
   "source": [
    "def processHitNumber(phrase):\n",
    "    \"\"\"Assumes that the phrase has the following format:\n",
    "    About 39,600,000 results (0.75 seconds)\n",
    "    and extracts the number of results.\n",
    "    \"\"\"\n",
    "    hitNumber = phrase.split()[1]\n",
    "    return int(hitNumber.replace(',', ''))"
   ]
  },
  {
   "cell_type": "markdown",
   "metadata": {},
   "source": [
    "We'll iterate over a list of artists and get the results."
   ]
  },
  {
   "cell_type": "code",
   "execution_count": 16,
   "metadata": {},
   "outputs": [
    {
     "name": "stdout",
     "output_type": "stream",
     "text": [
      "Lady Gaga | About 195,000,000 results (0.34 seconds) \n",
      "Rihanna | About 384,000,000 results (0.33 seconds) \n",
      "Taylor Swift | About 1,230,000,000 results (0.52 seconds) \n",
      "Beyonce | About 324,000,000 results (0.32 seconds) \n",
      "Britney Spears | About 133,000,000 results (0.58 seconds) \n"
     ]
    },
    {
     "data": {
      "text/plain": [
       "[('Taylor Swift', 1230000000),\n",
       " ('Rihanna', 384000000),\n",
       " ('Beyonce', 324000000),\n",
       " ('Lady Gaga', 195000000),\n",
       " ('Britney Spears', 133000000)]"
      ]
     },
     "execution_count": 16,
     "metadata": {},
     "output_type": "execute_result"
    }
   ],
   "source": [
    "artistsAndHits = [] # to store the pairs of (artistName, numberOfHits)\n",
    "\n",
    "for name in ['Lady Gaga', 'Rihanna', 'Taylor Swift', \n",
    "             'Beyonce', 'Britney Spears']:\n",
    "    \n",
    "    results = getResults(name)\n",
    "    \n",
    "    print(name, '|', results) \n",
    "    if results:\n",
    "        hitnumber = processHitNumber(results)\n",
    "        artistsAndHits.append((name, hitnumber))\n",
    "    \n",
    "    \n",
    "sorted(artistsAndHits, key=lambda item: item[1], reverse=True)"
   ]
  },
  {
   "cell_type": "markdown",
   "metadata": {},
   "source": [
    "<a id=\"part4\"></a>\n",
    "## Part 4: Do your own search\n",
    "\n",
    "Make a list of Universities and Colleges (that you applied to or that you were interested in before Wellesley), repeat the search as before and find out which of them is most \"popular\" according to Google.\n",
    "\n",
    "**Optional:** Do the results correlate with other metrics about these institutions (e.g. rankings, endowment, etc.)? How would you go about finding out?"
   ]
  },
  {
   "cell_type": "code",
   "execution_count": 18,
   "metadata": {},
   "outputs": [
    {
     "name": "stdout",
     "output_type": "stream",
     "text": [
      "Rice | \n",
      "Northeastern | About 453,000,000 results (0.39 seconds) \n",
      "UT Austin | About 2,240,000,000 results (0.53 seconds) \n",
      "Harvard | About 1,580,000,000 results (0.43 seconds) \n",
      "MIT | About 7,500,000,000 results (0.29 seconds) \n"
     ]
    },
    {
     "data": {
      "text/plain": [
       "[('MIT', 7500000000),\n",
       " ('UT Austin', 2240000000),\n",
       " ('Harvard', 1580000000),\n",
       " ('Northeastern', 453000000)]"
      ]
     },
     "execution_count": 18,
     "metadata": {},
     "output_type": "execute_result"
    }
   ],
   "source": [
    "collegesAndHits = [] # to store the pairs of (artistName, numberOfHits)\n",
    "\n",
    "for name in ['Rice', 'Northeastern', 'UT Austin', \n",
    "             'Harvard', 'MIT']:\n",
    "    \n",
    "    results = getResults(name)\n",
    "    \n",
    "    print(name, '|', results) \n",
    "    if results:\n",
    "        hitnumber = processHitNumber(results)\n",
    "        collegesAndHits.append((name, hitnumber))\n",
    "    \n",
    "    \n",
    "sorted(collegesAndHits, key=lambda item: item[1], reverse=True)"
   ]
  },
  {
   "cell_type": "code",
   "execution_count": null,
   "metadata": {},
   "outputs": [],
   "source": []
  }
 ],
 "metadata": {
  "kernelspec": {
   "display_name": "Python 3 (ipykernel)",
   "language": "python",
   "name": "python3"
  },
  "language_info": {
   "codemirror_mode": {
    "name": "ipython",
    "version": 3
   },
   "file_extension": ".py",
   "mimetype": "text/x-python",
   "name": "python",
   "nbconvert_exporter": "python",
   "pygments_lexer": "ipython3",
   "version": "3.9.7"
  }
 },
 "nbformat": 4,
 "nbformat_minor": 4
}
